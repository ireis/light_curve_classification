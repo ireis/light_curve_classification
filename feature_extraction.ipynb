{
 "cells": [
  {
   "cell_type": "markdown",
   "metadata": {},
   "source": [
    "# Catalina Surveys Periodic Variable Catalog\n",
    "* Described in http://nesssi.cacr.caltech.edu/DataRelease/Varcat.html \n",
    "* Need to download http://nesssi.cacr.caltech.edu/DataRelease/CatalinaVars.tbl, and http://nesssi.cacr.caltech.edu/DataRelease/AllVar.phot.gz"
   ]
  },
  {
   "cell_type": "code",
   "execution_count": 18,
   "metadata": {},
   "outputs": [],
   "source": [
    "import pandas\n",
    "import numpy\n",
    "import matplotlib.pyplot as plt\n",
    "from collections import Counter"
   ]
  },
  {
   "cell_type": "markdown",
   "metadata": {},
   "source": [
    "# Photometry data"
   ]
  },
  {
   "cell_type": "code",
   "execution_count": 19,
   "metadata": {},
   "outputs": [
    {
     "name": "stdout",
     "output_type": "stream",
     "text": [
      "(13712786, 5)\n"
     ]
    },
    {
     "data": {
      "text/html": [
       "<div>\n",
       "<style scoped>\n",
       "    .dataframe tbody tr th:only-of-type {\n",
       "        vertical-align: middle;\n",
       "    }\n",
       "\n",
       "    .dataframe tbody tr th {\n",
       "        vertical-align: top;\n",
       "    }\n",
       "\n",
       "    .dataframe thead th {\n",
       "        text-align: right;\n",
       "    }\n",
       "</style>\n",
       "<table border=\"1\" class=\"dataframe\">\n",
       "  <thead>\n",
       "    <tr style=\"text-align: right;\">\n",
       "      <th></th>\n",
       "      <th>MJD</th>\n",
       "      <th>Mag</th>\n",
       "      <th>Magerr</th>\n",
       "      <th>RA</th>\n",
       "      <th>Dec</th>\n",
       "    </tr>\n",
       "    <tr>\n",
       "      <th>ID</th>\n",
       "      <th></th>\n",
       "      <th></th>\n",
       "      <th></th>\n",
       "      <th></th>\n",
       "      <th></th>\n",
       "    </tr>\n",
       "  </thead>\n",
       "  <tbody>\n",
       "    <tr>\n",
       "      <th>1109065026725</th>\n",
       "      <td>53466.263201</td>\n",
       "      <td>16.811625</td>\n",
       "      <td>0.077096</td>\n",
       "      <td>182.25874</td>\n",
       "      <td>9.76575</td>\n",
       "    </tr>\n",
       "    <tr>\n",
       "      <th>1109065026725</th>\n",
       "      <td>53466.270722</td>\n",
       "      <td>16.864269</td>\n",
       "      <td>0.078026</td>\n",
       "      <td>182.25869</td>\n",
       "      <td>9.76582</td>\n",
       "    </tr>\n",
       "    <tr>\n",
       "      <th>1109065026725</th>\n",
       "      <td>53466.278261</td>\n",
       "      <td>16.873783</td>\n",
       "      <td>0.078234</td>\n",
       "      <td>182.25870</td>\n",
       "      <td>9.76582</td>\n",
       "    </tr>\n",
       "    <tr>\n",
       "      <th>1109065026725</th>\n",
       "      <td>53466.285811</td>\n",
       "      <td>16.875163</td>\n",
       "      <td>0.078293</td>\n",
       "      <td>182.25875</td>\n",
       "      <td>9.76584</td>\n",
       "    </tr>\n",
       "    <tr>\n",
       "      <th>1109065026725</th>\n",
       "      <td>53705.481591</td>\n",
       "      <td>16.921303</td>\n",
       "      <td>0.082772</td>\n",
       "      <td>182.25869</td>\n",
       "      <td>9.76589</td>\n",
       "    </tr>\n",
       "  </tbody>\n",
       "</table>\n",
       "</div>"
      ],
      "text/plain": [
       "                        MJD        Mag    Magerr         RA      Dec\n",
       "ID                                                                  \n",
       "1109065026725  53466.263201  16.811625  0.077096  182.25874  9.76575\n",
       "1109065026725  53466.270722  16.864269  0.078026  182.25869  9.76582\n",
       "1109065026725  53466.278261  16.873783  0.078234  182.25870  9.76582\n",
       "1109065026725  53466.285811  16.875163  0.078293  182.25875  9.76584\n",
       "1109065026725  53705.481591  16.921303  0.082772  182.25869  9.76589"
      ]
     },
     "execution_count": 19,
     "metadata": {},
     "output_type": "execute_result"
    }
   ],
   "source": [
    "phot_df = pandas.read_csv('data/AllVar.phot',header = None,names=['ID','MJD','Mag','Magerr','RA','Dec'])\n",
    "phot_df = phot_df.set_index('ID')\n",
    "print(phot_df.shape)\n",
    "phot_df.head()"
   ]
  },
  {
   "cell_type": "code",
   "execution_count": 20,
   "metadata": {},
   "outputs": [
    {
     "name": "stdout",
     "output_type": "stream",
     "text": [
      "46821 objects\n"
     ]
    }
   ],
   "source": [
    "IDs = numpy.unique(phot_df.index)\n",
    "nof_objecs = len(IDs)\n",
    "print(nof_objecs, 'objects')"
   ]
  },
  {
   "cell_type": "markdown",
   "metadata": {},
   "source": [
    "# Catalog with labels\n",
    "\n",
    "| Type\t| Percent\t| Number | ID |\n",
    "| --- | --- | --- | --- | \n",
    "|EW \t     |49.93 |30743 \t|1\n",
    "|EA \t     |7.61 \t|4683 \t|2\n",
    "|beta Lyrae  |0.45 \t|279 \t|3\n",
    "|RRab \t     |27.28 |16797 \t|4\n",
    "|RRc \t     |8.88 \t|5469 \t|5\n",
    "|RRd \t     |0.82 \t|502 \t|6\n",
    "|Blazkho     |0.36 \t|223 \t|7\n",
    "|RS CVn \t |2.47 \t|1522 \t|8\n",
    "|ACEP \t     |0.10 \t|64 \t|9\n",
    "|Cep-II \t |0.20 \t|124 \t|10\n",
    "|HADS \t     |0.39 \t|242 \t|11\n",
    "|LADS \t     |0.01 \t|7 \t    |12\n",
    "|LPV \t     |0.83 \t|512 \t|13\n",
    "|ELL \t     |0.23 \t|143 \t|14\n",
    "|Hump \t     |0.04 \t|25 \t|15\n",
    "|PCEB    \t |0.14 \t|85 \t|16\n",
    "|EA_UP       |0.25 \t|155 \t|17"
   ]
  },
  {
   "cell_type": "code",
   "execution_count": 21,
   "metadata": {},
   "outputs": [
    {
     "name": "stdout",
     "output_type": "stream",
     "text": [
      "(47055, 8)\n"
     ]
    },
    {
     "data": {
      "text/html": [
       "<div>\n",
       "<style scoped>\n",
       "    .dataframe tbody tr th:only-of-type {\n",
       "        vertical-align: middle;\n",
       "    }\n",
       "\n",
       "    .dataframe tbody tr th {\n",
       "        vertical-align: top;\n",
       "    }\n",
       "\n",
       "    .dataframe thead th {\n",
       "        text-align: right;\n",
       "    }\n",
       "</style>\n",
       "<table border=\"1\" class=\"dataframe\">\n",
       "  <thead>\n",
       "    <tr style=\"text-align: right;\">\n",
       "      <th></th>\n",
       "      <th>Catalina_Surveys_ID</th>\n",
       "      <th>RA_(J2000)</th>\n",
       "      <th>Dec</th>\n",
       "      <th>V_(mag)</th>\n",
       "      <th>Period_(days)</th>\n",
       "      <th>Amplitude</th>\n",
       "      <th>Number_Obs</th>\n",
       "      <th>Var_Type</th>\n",
       "    </tr>\n",
       "    <tr>\n",
       "      <th>Numerical_ID</th>\n",
       "      <th></th>\n",
       "      <th></th>\n",
       "      <th></th>\n",
       "      <th></th>\n",
       "      <th></th>\n",
       "      <th></th>\n",
       "      <th></th>\n",
       "      <th></th>\n",
       "    </tr>\n",
       "  </thead>\n",
       "  <tbody>\n",
       "    <tr>\n",
       "      <th>1109001041232</th>\n",
       "      <td>CSS_J000020.4+103118</td>\n",
       "      <td>00:00:20.41</td>\n",
       "      <td>+10:31:18.9</td>\n",
       "      <td>14.62</td>\n",
       "      <td>1.491758</td>\n",
       "      <td>2.39</td>\n",
       "      <td>223</td>\n",
       "      <td>2</td>\n",
       "    </tr>\n",
       "    <tr>\n",
       "      <th>1009001044997</th>\n",
       "      <td>CSS_J000031.5-084652</td>\n",
       "      <td>00:00:31.50</td>\n",
       "      <td>-08:46:52.3</td>\n",
       "      <td>14.14</td>\n",
       "      <td>0.404185</td>\n",
       "      <td>0.12</td>\n",
       "      <td>163</td>\n",
       "      <td>1</td>\n",
       "    </tr>\n",
       "    <tr>\n",
       "      <th>1140001063366</th>\n",
       "      <td>CSS_J000036.9+412805</td>\n",
       "      <td>00:00:36.94</td>\n",
       "      <td>+41:28:05.7</td>\n",
       "      <td>17.39</td>\n",
       "      <td>0.274627</td>\n",
       "      <td>0.73</td>\n",
       "      <td>158</td>\n",
       "      <td>1</td>\n",
       "    </tr>\n",
       "    <tr>\n",
       "      <th>1138001069849</th>\n",
       "      <td>CSS_J000037.5+390308</td>\n",
       "      <td>00:00:37.55</td>\n",
       "      <td>+39:03:08.1</td>\n",
       "      <td>17.74</td>\n",
       "      <td>0.30691</td>\n",
       "      <td>0.23</td>\n",
       "      <td>219</td>\n",
       "      <td>1</td>\n",
       "    </tr>\n",
       "    <tr>\n",
       "      <th>1109001050739</th>\n",
       "      <td>CSS_J000103.3+105724</td>\n",
       "      <td>00:01:03.37</td>\n",
       "      <td>+10:57:24.4</td>\n",
       "      <td>15.25</td>\n",
       "      <td>1.5837582</td>\n",
       "      <td>0.11</td>\n",
       "      <td>223</td>\n",
       "      <td>8</td>\n",
       "    </tr>\n",
       "  </tbody>\n",
       "</table>\n",
       "</div>"
      ],
      "text/plain": [
       "                Catalina_Surveys_ID   RA_(J2000)          Dec  V_(mag)  \\\n",
       "Numerical_ID                                                             \n",
       "1109001041232  CSS_J000020.4+103118  00:00:20.41  +10:31:18.9    14.62   \n",
       "1009001044997  CSS_J000031.5-084652  00:00:31.50  -08:46:52.3    14.14   \n",
       "1140001063366  CSS_J000036.9+412805  00:00:36.94  +41:28:05.7    17.39   \n",
       "1138001069849  CSS_J000037.5+390308  00:00:37.55  +39:03:08.1    17.74   \n",
       "1109001050739  CSS_J000103.3+105724  00:01:03.37  +10:57:24.4    15.25   \n",
       "\n",
       "              Period_(days)  Amplitude  Number_Obs  Var_Type  \n",
       "Numerical_ID                                                  \n",
       "1109001041232      1.491758       2.39         223         2  \n",
       "1009001044997      0.404185       0.12         163         1  \n",
       "1140001063366      0.274627       0.73         158         1  \n",
       "1138001069849       0.30691       0.23         219         1  \n",
       "1109001050739     1.5837582       0.11         223         8  "
      ]
     },
     "execution_count": 21,
     "metadata": {},
     "output_type": "execute_result"
    }
   ],
   "source": [
    "catalog_df = pandas.read_csv('data/CatalinaVars.tbl',header = None,sep = '\\s+', skiprows=1,\n",
    "                             names=['Catalina_Surveys_ID','Numerical_ID','RA_(J2000)','Dec','V_(mag)','Period_(days)','Amplitude', 'Number_Obs','Var_Type'])\n",
    "catalog_df = catalog_df.set_index('Numerical_ID')\n",
    "print(catalog_df.shape)\n",
    "catalog_df.head()"
   ]
  },
  {
   "cell_type": "code",
   "execution_count": 22,
   "metadata": {},
   "outputs": [
    {
     "data": {
      "image/png": "[encoded data removed]",
      "text/plain": [
       "<Figure size 720x504 with 1 Axes>"
      ]
     },
     "metadata": {},
     "output_type": "display_data"
    }
   ],
   "source": [
    "var_types = catalog_df['Var_Type'].values\n",
    "counts = Counter(var_types)\n",
    "plt.figure(figsize = (10,7))\n",
    "#plt.hist(var_types,log=True, bins)\n",
    "plt.bar(counts.keys(),counts.values(),log=True)\n",
    "plt.title('Distribution of labels', fontsize = 20)\n",
    "plt.xlabel('Type',fontsize = 20)\n",
    "plt.ylabel('nof objects',fontsize = 20)\n",
    "plt.xticks(list(counts.keys()), fontsize=20)\n",
    "plt.yticks(fontsize=20)\n",
    "plt.show()"
   ]
  },
  {
   "cell_type": "markdown",
   "metadata": {},
   "source": [
    "## The photometry data and the catalog do not contain excatly the same objects, so keep only the ones that are in both:"
   ]
  },
  {
   "cell_type": "code",
   "execution_count": 23,
   "metadata": {},
   "outputs": [],
   "source": [
    "#m = catalog_df.merge(phot_df, how = 'inner', left_index=True, right_index=True)\n",
    "#print(m.shape)\n",
    "#m.head()"
   ]
  },
  {
   "cell_type": "code",
   "execution_count": 24,
   "metadata": {},
   "outputs": [],
   "source": [
    "#m_IDs = numpy.unique(m.index)\n",
    "#m_nof_objecs = len(m_IDs)\n",
    "#print(m_nof_objecs, 'objects')"
   ]
  },
  {
   "cell_type": "code",
   "execution_count": 25,
   "metadata": {},
   "outputs": [],
   "source": [
    "# Looks like all the objects with photometry have labels"
   ]
  },
  {
   "cell_type": "code",
   "execution_count": 38,
   "metadata": {},
   "outputs": [],
   "source": [
    "labels = catalog_df['Var_Type'].loc[IDs]\n",
    "labels.values\n",
    "numpy.save('labels',labels)"
   ]
  },
  {
   "cell_type": "markdown",
   "metadata": {},
   "source": [
    "# Example light curve"
   ]
  },
  {
   "cell_type": "code",
   "execution_count": 26,
   "metadata": {},
   "outputs": [
    {
     "data": {
      "image/png": "[encoded data removed]",
      "text/plain": [
       "<Figure size 720x504 with 1 Axes>"
      ]
     },
     "metadata": {},
     "output_type": "display_data"
    }
   ],
   "source": [
    "idx = numpy.random.choice(IDs)\n",
    "var_type = catalog_df['Var_Type'].loc[idx]\n",
    "y = phot_df['Mag'].loc[idx]\n",
    "y_err = phot_df['Magerr'].loc[idx]\n",
    "x = phot_df['MJD'].loc[idx]\n",
    "plt.figure(figsize = (10,7))\n",
    "plt.errorbar(x=x,y=y, yerr=y_err,fmt='o', ecolor='orange' )\n",
    "ttl = '{} - type {}'.format(idx, var_type)\n",
    "plt.title(ttl, fontsize = 20)\n",
    "plt.xlabel('MJD',fontsize = 20)\n",
    "plt.ylabel('Mag',fontsize = 20)\n",
    "plt.xticks(fontsize=20)\n",
    "plt.yticks(fontsize=20)\n",
    "plt.show()"
   ]
  },
  {
   "cell_type": "markdown",
   "metadata": {},
   "source": [
    "# Feature extraction\n",
    "* neet to 'pip install FATS'. The docs are at http://isadoranun.github.io/tsfeat/FeaturesDocumentation.html"
   ]
  },
  {
   "cell_type": "code",
   "execution_count": 90,
   "metadata": {},
   "outputs": [
    {
     "name": "stdout",
     "output_type": "stream",
     "text": [
      "46821\n"
     ]
    }
   ],
   "source": [
    "# Create a list of light-curves\n",
    "\n",
    "def det_locs(phot_index, nof_objecs):\n",
    "    s = numpy.zeros(nof_objecs, dtype=int)\n",
    "    e = numpy.zeros(nof_objecs, dtype=int)\n",
    "    IDs = []\n",
    "    \n",
    "    curr = phot_index[0]\n",
    "    IDs += [curr]\n",
    "    s[0] = 0\n",
    "    count = 0\n",
    "    \n",
    "    for i, idx in enumerate(phot_index):\n",
    "        if curr != idx:\n",
    "            curr = idx\n",
    "            IDs += [curr]\n",
    "            e[count] = i\n",
    "            if count < nof_objecs:\n",
    "                count = count + 1\n",
    "                s[count] = i\n",
    "    e[-1] = len(phot_index)\n",
    "    return s,e,numpy.array(IDs)\n",
    "\n",
    "phot_index = numpy.array(phot_df.index)\n",
    "s,e,IDs_ = det_locs(phot_index, nof_objecs)\n",
    "se = numpy.vstack([s,e]).T\n",
    "\n",
    "lc_list = []\n",
    "phot_arr = phot_df[['Mag','MJD','Magerr']].values\n",
    "\n",
    "for se_ in se:\n",
    "    lc_list += [phot_arr[se_[0]:se_[1],:]]\n",
    "print(len(lc_list))\n",
    "\n",
    "numpy.save('lc_list', lc_list)"
   ]
  },
  {
   "cell_type": "code",
   "execution_count": null,
   "metadata": {},
   "outputs": [],
   "source": []
  },
  {
   "cell_type": "code",
   "execution_count": 81,
   "metadata": {
    "scrolled": true
   },
   "outputs": [
    {
     "name": "stderr",
     "output_type": "stream",
     "text": [
      "/storage/home/itamarreis/.conda/envs/peanuts/lib/python3.6/site-packages/FATS-1.3.6-py3.6.egg/FATS/FeatureFunctionLib.py:466: RuntimeWarning: divide by zero encountered in true_divide\n",
      "  slope = np.abs(magnitude[1:] - magnitude[:-1]) / (time[1:] - time[:-1])\n",
      "/storage/home/itamarreis/.conda/envs/peanuts/lib/python3.6/site-packages/FATS-1.3.6-py3.6.egg/FATS/FeatureFunctionLib.py:466: RuntimeWarning: divide by zero encountered in true_divide\n",
      "  slope = np.abs(magnitude[1:] - magnitude[:-1]) / (time[1:] - time[:-1])\n",
      "/storage/home/itamarreis/.conda/envs/peanuts/lib/python3.6/site-packages/FATS-1.3.6-py3.6.egg/FATS/FeatureFunctionLib.py:466: RuntimeWarning: divide by zero encountered in true_divide\n",
      "  slope = np.abs(magnitude[1:] - magnitude[:-1]) / (time[1:] - time[:-1])\n",
      "/storage/home/itamarreis/.conda/envs/peanuts/lib/python3.6/site-packages/FATS-1.3.6-py3.6.egg/FATS/FeatureFunctionLib.py:466: RuntimeWarning: divide by zero encountered in true_divide\n",
      "  slope = np.abs(magnitude[1:] - magnitude[:-1]) / (time[1:] - time[:-1])\n",
      "/storage/home/itamarreis/.conda/envs/peanuts/lib/python3.6/site-packages/FATS-1.3.6-py3.6.egg/FATS/FeatureFunctionLib.py:466: RuntimeWarning: divide by zero encountered in true_divide\n",
      "  slope = np.abs(magnitude[1:] - magnitude[:-1]) / (time[1:] - time[:-1])\n",
      "/storage/home/itamarreis/.conda/envs/peanuts/lib/python3.6/site-packages/FATS-1.3.6-py3.6.egg/FATS/FeatureFunctionLib.py:466: RuntimeWarning: divide by zero encountered in true_divide\n",
      "  slope = np.abs(magnitude[1:] - magnitude[:-1]) / (time[1:] - time[:-1])\n",
      "/storage/home/itamarreis/.conda/envs/peanuts/lib/python3.6/site-packages/FATS-1.3.6-py3.6.egg/FATS/FeatureFunctionLib.py:466: RuntimeWarning: divide by zero encountered in true_divide\n",
      "  slope = np.abs(magnitude[1:] - magnitude[:-1]) / (time[1:] - time[:-1])\n",
      "/storage/home/itamarreis/.conda/envs/peanuts/lib/python3.6/site-packages/FATS-1.3.6-py3.6.egg/FATS/FeatureFunctionLib.py:466: RuntimeWarning: divide by zero encountered in true_divide\n",
      "  slope = np.abs(magnitude[1:] - magnitude[:-1]) / (time[1:] - time[:-1])\n",
      "/storage/home/itamarreis/.conda/envs/peanuts/lib/python3.6/site-packages/FATS-1.3.6-py3.6.egg/FATS/FeatureFunctionLib.py:466: RuntimeWarning: divide by zero encountered in true_divide\n",
      "  slope = np.abs(magnitude[1:] - magnitude[:-1]) / (time[1:] - time[:-1])\n",
      "/storage/home/itamarreis/.conda/envs/peanuts/lib/python3.6/site-packages/FATS-1.3.6-py3.6.egg/FATS/FeatureFunctionLib.py:466: RuntimeWarning: divide by zero encountered in true_divide\n",
      "  slope = np.abs(magnitude[1:] - magnitude[:-1]) / (time[1:] - time[:-1])\n",
      "/storage/home/itamarreis/.conda/envs/peanuts/lib/python3.6/site-packages/FATS-1.3.6-py3.6.egg/FATS/FeatureFunctionLib.py:466: RuntimeWarning: divide by zero encountered in true_divide\n",
      "  slope = np.abs(magnitude[1:] - magnitude[:-1]) / (time[1:] - time[:-1])\n",
      "/storage/home/itamarreis/.conda/envs/peanuts/lib/python3.6/site-packages/FATS-1.3.6-py3.6.egg/FATS/FeatureFunctionLib.py:466: RuntimeWarning: divide by zero encountered in true_divide\n",
      "  slope = np.abs(magnitude[1:] - magnitude[:-1]) / (time[1:] - time[:-1])\n",
      "/storage/home/itamarreis/.conda/envs/peanuts/lib/python3.6/site-packages/FATS-1.3.6-py3.6.egg/FATS/FeatureFunctionLib.py:466: RuntimeWarning: divide by zero encountered in true_divide\n",
      "  slope = np.abs(magnitude[1:] - magnitude[:-1]) / (time[1:] - time[:-1])\n",
      "/storage/home/itamarreis/.conda/envs/peanuts/lib/python3.6/site-packages/FATS-1.3.6-py3.6.egg/FATS/FeatureFunctionLib.py:466: RuntimeWarning: divide by zero encountered in true_divide\n",
      "  slope = np.abs(magnitude[1:] - magnitude[:-1]) / (time[1:] - time[:-1])\n",
      "/storage/home/itamarreis/.conda/envs/peanuts/lib/python3.6/site-packages/FATS-1.3.6-py3.6.egg/FATS/FeatureFunctionLib.py:466: RuntimeWarning: divide by zero encountered in true_divide\n",
      "  slope = np.abs(magnitude[1:] - magnitude[:-1]) / (time[1:] - time[:-1])\n",
      "/storage/home/itamarreis/.conda/envs/peanuts/lib/python3.6/site-packages/FATS-1.3.6-py3.6.egg/FATS/FeatureFunctionLib.py:466: RuntimeWarning: divide by zero encountered in true_divide\n",
      "  slope = np.abs(magnitude[1:] - magnitude[:-1]) / (time[1:] - time[:-1])\n",
      "/storage/home/itamarreis/.conda/envs/peanuts/lib/python3.6/site-packages/FATS-1.3.6-py3.6.egg/FATS/FeatureFunctionLib.py:466: RuntimeWarning: divide by zero encountered in true_divide\n",
      "  slope = np.abs(magnitude[1:] - magnitude[:-1]) / (time[1:] - time[:-1])\n",
      "/storage/home/itamarreis/.conda/envs/peanuts/lib/python3.6/site-packages/FATS-1.3.6-py3.6.egg/FATS/FeatureFunctionLib.py:466: RuntimeWarning: divide by zero encountered in true_divide\n",
      "  slope = np.abs(magnitude[1:] - magnitude[:-1]) / (time[1:] - time[:-1])\n",
      "/storage/home/itamarreis/.conda/envs/peanuts/lib/python3.6/site-packages/FATS-1.3.6-py3.6.egg/FATS/FeatureFunctionLib.py:466: RuntimeWarning: divide by zero encountered in true_divide\n",
      "  slope = np.abs(magnitude[1:] - magnitude[:-1]) / (time[1:] - time[:-1])\n",
      "/storage/home/itamarreis/.conda/envs/peanuts/lib/python3.6/site-packages/FATS-1.3.6-py3.6.egg/FATS/FeatureFunctionLib.py:466: RuntimeWarning: divide by zero encountered in true_divide\n",
      "  slope = np.abs(magnitude[1:] - magnitude[:-1]) / (time[1:] - time[:-1])\n",
      "/storage/home/itamarreis/.conda/envs/peanuts/lib/python3.6/site-packages/FATS-1.3.6-py3.6.egg/FATS/FeatureFunctionLib.py:466: RuntimeWarning: divide by zero encountered in true_divide\n",
      "  slope = np.abs(magnitude[1:] - magnitude[:-1]) / (time[1:] - time[:-1])\n",
      "/storage/home/itamarreis/.conda/envs/peanuts/lib/python3.6/site-packages/FATS-1.3.6-py3.6.egg/FATS/FeatureFunctionLib.py:466: RuntimeWarning: divide by zero encountered in true_divide\n",
      "  slope = np.abs(magnitude[1:] - magnitude[:-1]) / (time[1:] - time[:-1])\n",
      "/storage/home/itamarreis/.conda/envs/peanuts/lib/python3.6/site-packages/FATS-1.3.6-py3.6.egg/FATS/FeatureFunctionLib.py:466: RuntimeWarning: divide by zero encountered in true_divide\n",
      "  slope = np.abs(magnitude[1:] - magnitude[:-1]) / (time[1:] - time[:-1])\n",
      "/storage/home/itamarreis/.conda/envs/peanuts/lib/python3.6/site-packages/FATS-1.3.6-py3.6.egg/FATS/FeatureFunctionLib.py:466: RuntimeWarning: divide by zero encountered in true_divide\n",
      "  slope = np.abs(magnitude[1:] - magnitude[:-1]) / (time[1:] - time[:-1])\n",
      "/storage/home/itamarreis/.conda/envs/peanuts/lib/python3.6/site-packages/FATS-1.3.6-py3.6.egg/FATS/FeatureFunctionLib.py:466: RuntimeWarning: divide by zero encountered in true_divide\n",
      "  slope = np.abs(magnitude[1:] - magnitude[:-1]) / (time[1:] - time[:-1])\n",
      "/storage/home/itamarreis/.conda/envs/peanuts/lib/python3.6/site-packages/FATS-1.3.6-py3.6.egg/FATS/FeatureFunctionLib.py:466: RuntimeWarning: divide by zero encountered in true_divide\n",
      "  slope = np.abs(magnitude[1:] - magnitude[:-1]) / (time[1:] - time[:-1])\n",
      "/storage/home/itamarreis/.conda/envs/peanuts/lib/python3.6/site-packages/FATS-1.3.6-py3.6.egg/FATS/FeatureFunctionLib.py:466: RuntimeWarning: divide by zero encountered in true_divide\n",
      "  slope = np.abs(magnitude[1:] - magnitude[:-1]) / (time[1:] - time[:-1])\n",
      "/storage/home/itamarreis/.conda/envs/peanuts/lib/python3.6/site-packages/FATS-1.3.6-py3.6.egg/FATS/FeatureFunctionLib.py:466: RuntimeWarning: divide by zero encountered in true_divide\n",
      "  slope = np.abs(magnitude[1:] - magnitude[:-1]) / (time[1:] - time[:-1])\n",
      "/storage/home/itamarreis/.conda/envs/peanuts/lib/python3.6/site-packages/FATS-1.3.6-py3.6.egg/FATS/FeatureFunctionLib.py:466: RuntimeWarning: divide by zero encountered in true_divide\n",
      "  slope = np.abs(magnitude[1:] - magnitude[:-1]) / (time[1:] - time[:-1])\n",
      "/storage/home/itamarreis/.conda/envs/peanuts/lib/python3.6/site-packages/FATS-1.3.6-py3.6.egg/FATS/FeatureFunctionLib.py:466: RuntimeWarning: divide by zero encountered in true_divide\n",
      "  slope = np.abs(magnitude[1:] - magnitude[:-1]) / (time[1:] - time[:-1])\n",
      "/storage/home/itamarreis/.conda/envs/peanuts/lib/python3.6/site-packages/FATS-1.3.6-py3.6.egg/FATS/FeatureFunctionLib.py:466: RuntimeWarning: divide by zero encountered in true_divide\n",
      "  slope = np.abs(magnitude[1:] - magnitude[:-1]) / (time[1:] - time[:-1])\n",
      "/storage/home/itamarreis/.conda/envs/peanuts/lib/python3.6/site-packages/FATS-1.3.6-py3.6.egg/FATS/FeatureFunctionLib.py:466: RuntimeWarning: divide by zero encountered in true_divide\n",
      "  slope = np.abs(magnitude[1:] - magnitude[:-1]) / (time[1:] - time[:-1])\n"
     ]
    },
    {
     "name": "stderr",
     "output_type": "stream",
     "text": [
      "/storage/home/itamarreis/.conda/envs/peanuts/lib/python3.6/site-packages/FATS-1.3.6-py3.6.egg/FATS/FeatureFunctionLib.py:466: RuntimeWarning: invalid value encountered in true_divide\n",
      "  slope = np.abs(magnitude[1:] - magnitude[:-1]) / (time[1:] - time[:-1])\n",
      "/storage/home/itamarreis/.conda/envs/peanuts/lib/python3.6/site-packages/FATS-1.3.6-py3.6.egg/FATS/FeatureFunctionLib.py:466: RuntimeWarning: invalid value encountered in true_divide\n",
      "  slope = np.abs(magnitude[1:] - magnitude[:-1]) / (time[1:] - time[:-1])\n",
      "/storage/home/itamarreis/.conda/envs/peanuts/lib/python3.6/site-packages/numpy/core/_methods.py:26: RuntimeWarning: invalid value encountered in reduce\n",
      "  return umr_maximum(a, axis, None, out, keepdims)\n",
      "/storage/home/itamarreis/.conda/envs/peanuts/lib/python3.6/site-packages/FATS-1.3.6-py3.6.egg/FATS/FeatureFunctionLib.py:466: RuntimeWarning: invalid value encountered in true_divide\n",
      "  slope = np.abs(magnitude[1:] - magnitude[:-1]) / (time[1:] - time[:-1])\n",
      "/storage/home/itamarreis/.conda/envs/peanuts/lib/python3.6/site-packages/numpy/core/_methods.py:26: RuntimeWarning: invalid value encountered in reduce\n",
      "  return umr_maximum(a, axis, None, out, keepdims)\n",
      "/storage/home/itamarreis/.conda/envs/peanuts/lib/python3.6/site-packages/numpy/core/_methods.py:26: RuntimeWarning: invalid value encountered in reduce\n",
      "  return umr_maximum(a, axis, None, out, keepdims)\n",
      "/storage/home/itamarreis/.conda/envs/peanuts/lib/python3.6/site-packages/FATS-1.3.6-py3.6.egg/FATS/FeatureFunctionLib.py:466: RuntimeWarning: invalid value encountered in true_divide\n",
      "  slope = np.abs(magnitude[1:] - magnitude[:-1]) / (time[1:] - time[:-1])\n",
      "/storage/home/itamarreis/.conda/envs/peanuts/lib/python3.6/site-packages/numpy/core/_methods.py:26: RuntimeWarning: invalid value encountered in reduce\n",
      "  return umr_maximum(a, axis, None, out, keepdims)\n"
     ]
    }
   ],
   "source": [
    "import FATS\n",
    "flist = ['Amplitude',\n",
    "         'Beyond1Std',\n",
    "         'FluxPercentileRatioMid20',\n",
    "         'FluxPercentileRatioMid35',\n",
    "         'FluxPercentileRatioMid50',\n",
    "         'FluxPercentileRatioMid65',\n",
    "         'FluxPercentileRatioMid80',\n",
    "         'LinearTrend',\n",
    "         'MaxSlope',\n",
    "         'MedianAbsDev',\n",
    "         'MedianBRP',\n",
    "         'PairSlopeTrend',\n",
    "         'PercentDifferenceFluxPercentile',\n",
    "         'Skew',\n",
    "         'SmallKurtosis',\n",
    "         'Std',\n",
    "         'StetsonK',]\n",
    "\n",
    "def get_features(lc):\n",
    "    \n",
    "    lc = lc.T    \n",
    "    preproccesed_data = FATS.Preprocess_LC(data=lc[0], mjd=lc[1], error=lc[2])\n",
    "    [mag, time, error] = preproccesed_data.Preprocess()\n",
    "    lc = numpy.array([mag, time, error])\n",
    "    \n",
    "    FATS_fit = FATS.FeatureSpace(Data=['magnitude','time','error'], featureList = flist)\n",
    "    FATS_fit = FATS_fit.calculateFeature(lc)\n",
    "    \n",
    "    return FATS_fit.result()\n",
    "\n",
    "features_list = []\n",
    "\n",
    "from joblib import Parallel, delayed\n",
    "features_list = Parallel(n_jobs=-1, verbose = 10)(delayed(get_features)(lc) for lc in lc_list)\n",
    "#for lc in tqdm(lc_list):\n",
    "#    features = get_features(lc)\n",
    "#    features_list += [features]\n",
    "\n",
    "features_arr = numpy.vstack(features_list)"
   ]
  },
  {
   "cell_type": "code",
   "execution_count": 82,
   "metadata": {},
   "outputs": [
    {
     "name": "stdout",
     "output_type": "stream",
     "text": [
      "(46821, 17)\n"
     ]
    }
   ],
   "source": [
    "print(features_arr.shape)\n",
    "numpy.save('features', features_arr)"
   ]
  },
  {
   "cell_type": "code",
   "execution_count": 91,
   "metadata": {},
   "outputs": [],
   "source": [
    "labels = catalog_df['Var_Type'].loc[IDs_]\n",
    "labels.values\n",
    "numpy.save('labels',labels)"
   ]
  },
  {
   "cell_type": "code",
   "execution_count": 92,
   "metadata": {},
   "outputs": [],
   "source": [
    "X = []\n",
    "y = []\n",
    "IDs_clean = []\n",
    "\n",
    "for i in range(nof_objecs):\n",
    "    if ( (~numpy.isfinite(features_arr[i])).sum() == 0 ):\n",
    "        X += [features_arr[i]]\n",
    "        y += [labels.values[i]]\n",
    "        IDs_clean += [IDs[i]]\n",
    "\n",
    "X = numpy.vstack(X)\n",
    "y = numpy.array(y)\n",
    "\n",
    "numpy.save('X',X)\n",
    "numpy.save('y',y)\n",
    "numpy.save('IDs_clean',IDs_clean)"
   ]
  },
  {
   "cell_type": "code",
   "execution_count": 86,
   "metadata": {},
   "outputs": [
    {
     "data": {
      "image/png": "[encoded data removed]",
      "text/plain": [
       "<Figure size 720x504 with 1 Axes>"
      ]
     },
     "metadata": {},
     "output_type": "display_data"
    }
   ],
   "source": [
    "plt.figure(figsize = (10,7))\n",
    "plt.hist(X[:,1], bins = 20)\n",
    "plt.show()"
   ]
  },
  {
   "cell_type": "code",
   "execution_count": null,
   "metadata": {},
   "outputs": [],
   "source": []
  }
 ],
 "metadata": {
  "kernelspec": {
   "display_name": "Python 3",
   "language": "python",
   "name": "python3"
  },
  "language_info": {
   "codemirror_mode": {
    "name": "ipython",
    "version": 3
   },
   "file_extension": ".py",
   "mimetype": "text/x-python",
   "name": "python",
   "nbconvert_exporter": "python",
   "pygments_lexer": "ipython3",
   "version": "3.6.2"
  }
 },
 "nbformat": 4,
 "nbformat_minor": 2
}
